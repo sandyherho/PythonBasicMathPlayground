{
 "cells": [
  {
   "cell_type": "code",
   "execution_count": 1,
   "metadata": {},
   "outputs": [],
   "source": [
    "import numpy as np\n",
    "import matplotlib.pyplot as plt\n",
    "from IPython.display import display, Math\n",
    "%matplotlib inline"
   ]
  },
  {
   "cell_type": "markdown",
   "metadata": {},
   "source": [
    "# Measure of Spread"
   ]
  },
  {
   "cell_type": "code",
   "execution_count": 5,
   "metadata": {},
   "outputs": [
    {
     "data": {
      "text/plain": [
       "array([ 2.70684984,  0.62813271,  0.90796945,  0.50382575,  0.65111795,\n",
       "       -0.31931804, -0.84807698,  0.60596535, -2.01816824,  0.74012206,\n",
       "        0.52881349, -0.58900053,  0.18869531, -0.75887206, -0.93323722,\n",
       "        0.95505651,  0.19079432,  1.97875732,  2.60596728,  0.68350889,\n",
       "        0.30266545,  1.69372293, -1.70608593, -1.15911942, -0.13484072,\n",
       "        0.39052784,  0.16690464,  0.18450186,  0.80770591,  0.07295968])"
      ]
     },
     "execution_count": 5,
     "metadata": {},
     "output_type": "execute_result"
    }
   ],
   "source": [
    "np.random.seed(101)\n",
    "\n",
    "n = np.random.randn(30)\n",
    "\n",
    "n"
   ]
  },
  {
   "cell_type": "markdown",
   "metadata": {},
   "source": [
    "### Range"
   ]
  },
  {
   "cell_type": "code",
   "execution_count": 6,
   "metadata": {},
   "outputs": [
    {
     "data": {
      "text/plain": [
       "4.72501808343733"
      ]
     },
     "execution_count": 6,
     "metadata": {},
     "output_type": "execute_result"
    }
   ],
   "source": [
    "np.max(n) - np.min(n)"
   ]
  },
  {
   "cell_type": "markdown",
   "metadata": {},
   "source": [
    "### Quartile"
   ]
  },
  {
   "cell_type": "code",
   "execution_count": 13,
   "metadata": {},
   "outputs": [
    {
     "data": {
      "text/plain": [
       "-0.273198713596278"
      ]
     },
     "execution_count": 13,
     "metadata": {},
     "output_type": "execute_result"
    }
   ],
   "source": [
    "## 1st quartile\n",
    "\n",
    "q1 = np.percentile(n,25)\n",
    "q1"
   ]
  },
  {
   "cell_type": "code",
   "execution_count": 14,
   "metadata": {},
   "outputs": [
    {
     "data": {
      "text/plain": [
       "0.34659664565946174"
      ]
     },
     "execution_count": 14,
     "metadata": {},
     "output_type": "execute_result"
    }
   ],
   "source": [
    "## 2nd quartile\n",
    "\n",
    "q2 = np.percentile(n,50)\n",
    "q2"
   ]
  },
  {
   "cell_type": "code",
   "execution_count": 15,
   "metadata": {},
   "outputs": [
    {
     "data": {
      "text/plain": [
       "0.7259687641768087"
      ]
     },
     "execution_count": 15,
     "metadata": {},
     "output_type": "execute_result"
    }
   ],
   "source": [
    "## 3rd quartile\n",
    "\n",
    "q3 = np.percentile(n,75)\n",
    "q3"
   ]
  },
  {
   "cell_type": "markdown",
   "metadata": {},
   "source": [
    "### Interquartile Range"
   ]
  },
  {
   "cell_type": "code",
   "execution_count": 17,
   "metadata": {},
   "outputs": [
    {
     "data": {
      "text/plain": [
       "0.9991674777730867"
      ]
     },
     "execution_count": 17,
     "metadata": {},
     "output_type": "execute_result"
    }
   ],
   "source": [
    "IQR = q3 - q1\n",
    "IQR"
   ]
  },
  {
   "cell_type": "markdown",
   "metadata": {},
   "source": [
    "### Variance"
   ]
  },
  {
   "cell_type": "code",
   "execution_count": 18,
   "metadata": {},
   "outputs": [
    {
     "data": {
      "text/plain": [
       "array([ 2.70684984e+00,  6.28132709e-01,  9.07969446e-01,  5.03825754e-01,\n",
       "        6.51117948e-01, -3.19318045e-01, -8.48076983e-01,  6.05965349e-01,\n",
       "       -2.01816824e+00,  7.40122057e-01,  5.28813494e-01, -5.89000533e-01,\n",
       "        1.88695309e-01, -7.58872056e-01, -9.33237216e-01,  9.55056509e-01,\n",
       "        1.90794322e-01,  1.97875732e+00,  2.60596728e+00,  6.83508886e-01,\n",
       "        3.02665449e-01,  1.69372293e+00, -1.70608593e+00, -1.15911942e+00,\n",
       "       -1.34840721e-01,  3.90527843e-01,  1.66904636e-01,  1.84501859e-01,\n",
       "        8.07705914e-01,  7.29596753e-02,  6.38787013e-01,  3.29646299e-01,\n",
       "       -4.97104023e-01, -7.54069701e-01, -9.43406403e-01,  4.84751647e-01,\n",
       "       -1.16773316e-01,  1.90175480e+00,  2.38126959e-01,  1.99665229e+00,\n",
       "       -9.93263500e-01,  1.96799505e-01, -1.13664459e+00,  3.66479606e-04,\n",
       "        1.02598415e+00, -1.56597904e-01, -3.15791439e-02,  6.49825833e-01,\n",
       "        2.15484644e+00, -6.10258856e-01, -7.55325340e-01, -3.46418504e-01,\n",
       "        1.47026771e-01, -4.79448039e-01,  5.58769406e-01,  1.02481028e+00,\n",
       "       -9.25874259e-01,  1.86286414e+00, -1.13381716e+00,  6.10477908e-01,\n",
       "        3.86030312e-01,  2.08401853e+00, -3.76518675e-01,  2.30336344e-01,\n",
       "        6.81209293e-01,  1.03512507e+00, -3.11604815e-02,  1.93993231e+00,\n",
       "       -1.00518692e+00, -7.41789705e-01,  1.87124522e-01, -7.32845148e-01,\n",
       "       -1.38292010e+00,  1.48249550e+00,  9.61458156e-01, -2.14121229e+00,\n",
       "        9.92573453e-01,  1.19224064e+00, -1.04677954e+00,  1.29276458e+00,\n",
       "       -1.46751402e+00, -4.94095358e-01, -1.62534735e-01,  4.85808737e-01,\n",
       "        3.92488811e-01,  2.21490685e-01, -8.55196041e-01,  1.54199041e+00,\n",
       "        6.66319321e-01, -5.38234626e-01, -5.68581361e-01,  1.40733825e+00,\n",
       "        6.41805511e-01, -9.05099902e-01, -3.91156627e-01,  1.02829316e+00,\n",
       "       -1.97260510e+00, -8.66885035e-01,  7.20787599e-01, -1.22308204e+00])"
      ]
     },
     "execution_count": 18,
     "metadata": {},
     "output_type": "execute_result"
    }
   ],
   "source": [
    "np.random.seed(101)\n",
    "population = np.random.randn(100)\n",
    "population"
   ]
  },
  {
   "cell_type": "code",
   "execution_count": 19,
   "metadata": {},
   "outputs": [
    {
     "data": {
      "text/plain": [
       "array([ 1.03512507,  1.86286414, -0.53823463,  0.90796945, -1.46751402,\n",
       "       -0.75532534, -0.03116048,  0.66631932,  1.29276458, -0.9050999 ,\n",
       "       -0.84807698,  0.64180551, -1.13664459, -1.70608593,  0.30266545,\n",
       "        0.39052784, -0.86688504,  0.55876941, -0.73284515, -1.3829201 ,\n",
       "       -1.46751402, -0.9050999 ,  0.68120929,  0.23033634, -1.46751402,\n",
       "        0.23812696, -0.1565979 ,  0.48475165,  0.39052784,  1.02829316])"
      ]
     },
     "execution_count": 19,
     "metadata": {},
     "output_type": "execute_result"
    }
   ],
   "source": [
    "sample = np.random.choice(population, 30)\n",
    "sample"
   ]
  },
  {
   "cell_type": "code",
   "execution_count": 20,
   "metadata": {},
   "outputs": [
    {
     "data": {
      "text/plain": [
       "1.068781607086222"
      ]
     },
     "execution_count": 20,
     "metadata": {},
     "output_type": "execute_result"
    }
   ],
   "source": [
    "np.var(population)"
   ]
  },
  {
   "cell_type": "code",
   "execution_count": 21,
   "metadata": {},
   "outputs": [
    {
     "data": {
      "text/plain": [
       "0.904358760231582"
      ]
     },
     "execution_count": 21,
     "metadata": {},
     "output_type": "execute_result"
    }
   ],
   "source": [
    "np.var(sample)"
   ]
  },
  {
   "cell_type": "markdown",
   "metadata": {},
   "source": [
    "### Standard Deviation"
   ]
  },
  {
   "cell_type": "code",
   "execution_count": 22,
   "metadata": {},
   "outputs": [
    {
     "data": {
      "text/plain": [
       "1.0338189430873386"
      ]
     },
     "execution_count": 22,
     "metadata": {},
     "output_type": "execute_result"
    }
   ],
   "source": [
    "np.std(population)"
   ]
  },
  {
   "cell_type": "code",
   "execution_count": 23,
   "metadata": {},
   "outputs": [
    {
     "data": {
      "text/plain": [
       "0.950977791660553"
      ]
     },
     "execution_count": 23,
     "metadata": {},
     "output_type": "execute_result"
    }
   ],
   "source": [
    "np.std(sample)"
   ]
  }
 ],
 "metadata": {
  "kernelspec": {
   "display_name": "Python 3",
   "language": "python",
   "name": "python3"
  },
  "language_info": {
   "codemirror_mode": {
    "name": "ipython",
    "version": 3
   },
   "file_extension": ".py",
   "mimetype": "text/x-python",
   "name": "python",
   "nbconvert_exporter": "python",
   "pygments_lexer": "ipython3",
   "version": "3.7.7"
  }
 },
 "nbformat": 4,
 "nbformat_minor": 4
}
