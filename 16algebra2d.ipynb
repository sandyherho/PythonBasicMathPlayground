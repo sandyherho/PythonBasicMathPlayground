{
 "cells": [
  {
   "cell_type": "code",
   "execution_count": 1,
   "metadata": {},
   "outputs": [],
   "source": [
    "import numpy as np\n",
    "import matplotlib.pyplot as plt\n",
    "import sympy as sym\n",
    "from IPython.display import display,Math\n",
    "%matplotlib inline\n",
    "plt.style.use('ggplot')"
   ]
  },
  {
   "cell_type": "markdown",
   "metadata": {},
   "source": [
    "# Logarithm properties: division and multiplication"
   ]
  },
  {
   "cell_type": "markdown",
   "metadata": {},
   "source": [
    "$$\\log{(a \\times b)} = \\log{a} + \\log{b}$$\n",
    "\n",
    "$$\\log{\\left(\\frac{a}{b} \\right)} = \\log{a} - \\log{b}$$"
   ]
  },
  {
   "cell_type": "code",
   "execution_count": 12,
   "metadata": {},
   "outputs": [
    {
     "data": {
      "text/latex": [
       "$\\displaystyle \\log{(3 \\times 4)} = 2.48491$"
      ],
      "text/plain": [
       "<IPython.core.display.Math object>"
      ]
     },
     "metadata": {},
     "output_type": "display_data"
    },
    {
     "data": {
      "text/latex": [
       "$\\displaystyle \\log{3} \\times \\log{4} = 1.523$"
      ],
      "text/plain": [
       "<IPython.core.display.Math object>"
      ]
     },
     "metadata": {},
     "output_type": "display_data"
    },
    {
     "data": {
      "text/latex": [
       "$\\displaystyle \\log{3} + \\log{4} = 2.48491$"
      ],
      "text/plain": [
       "<IPython.core.display.Math object>"
      ]
     },
     "metadata": {},
     "output_type": "display_data"
    },
    {
     "data": {
      "text/latex": [
       "$\\displaystyle \\log{(3 \\times 4)} = \\log{3} + \\log{4}$"
      ],
      "text/plain": [
       "<IPython.core.display.Math object>"
      ]
     },
     "metadata": {},
     "output_type": "display_data"
    },
    {
     "data": {
      "text/latex": [
       "$\\displaystyle \\log{(3 \\times 4)} \\neq \\log{3} \\times \\log{4}$"
      ],
      "text/plain": [
       "<IPython.core.display.Math object>"
      ]
     },
     "metadata": {},
     "output_type": "display_data"
    }
   ],
   "source": [
    "a = 3\n",
    "b = 4\n",
    "\n",
    "res1 = np.log(a * b)\n",
    "res2 = np.log(a) * np.log(b)\n",
    "res3 = np.log(a) + np.log(b)\n",
    "\n",
    "display(Math('\\\\log{(%g \\\\times %g)} = %g'%(a,b,res1)))\n",
    "\n",
    "display(Math('\\\\log{%g} \\\\times \\\\log{%g} = %g'%(a,b,res2)))\n",
    "\n",
    "display(Math('\\\\log{%g} + \\\\log{%g} = %g'%(a,b,res3)))\n",
    "\n",
    "display(Math('\\\\log{(%g \\\\times %g)} = \\\\log{%g} + \\\\log{%g}'%(a,b,a,b)))\n",
    "\n",
    "display(Math('\\\\log{(%g \\\\times %g)} \\\\neq \\\\log{%g} \\\\times \\\\log{%g}'%(a,b,a,b)))"
   ]
  },
  {
   "cell_type": "code",
   "execution_count": 14,
   "metadata": {},
   "outputs": [
    {
     "data": {
      "text/latex": [
       "$\\displaystyle \\log{\\left(\\frac{3}{4}\\right)} = -0.287682$"
      ],
      "text/plain": [
       "<IPython.core.display.Math object>"
      ]
     },
     "metadata": {},
     "output_type": "display_data"
    },
    {
     "data": {
      "text/latex": [
       "$\\displaystyle \\frac{\\log{3}}{\\log{4}} = 0.792481$"
      ],
      "text/plain": [
       "<IPython.core.display.Math object>"
      ]
     },
     "metadata": {},
     "output_type": "display_data"
    },
    {
     "data": {
      "text/latex": [
       "$\\displaystyle \\log{3} - \\log{4} = -0.287682$"
      ],
      "text/plain": [
       "<IPython.core.display.Math object>"
      ]
     },
     "metadata": {},
     "output_type": "display_data"
    },
    {
     "data": {
      "text/latex": [
       "$\\displaystyle \\log{\\left(\\frac{3}{4}\\right)} = \\log{3} - \\log{4}$"
      ],
      "text/plain": [
       "<IPython.core.display.Math object>"
      ]
     },
     "metadata": {},
     "output_type": "display_data"
    },
    {
     "data": {
      "text/latex": [
       "$\\displaystyle \\log{\\left(\\frac{3}{4}\\right)} \\neq \\log{3} - \\log{4}$"
      ],
      "text/plain": [
       "<IPython.core.display.Math object>"
      ]
     },
     "metadata": {},
     "output_type": "display_data"
    }
   ],
   "source": [
    "res1 = np.log(a / b)\n",
    "res2 = np.log(a) / np.log(b)\n",
    "res3 = np.log(a) - np.log(b)\n",
    "\n",
    "display(Math('\\\\log{\\\\left(\\\\frac{%g}{%g}\\\\right)} = %g'%(a,b,res1)))\n",
    "\n",
    "display(Math('\\\\frac{\\\\log{%g}}{\\\\log{%g}} = %g'%(a,b,res2)))\n",
    "\n",
    "display(Math('\\\\log{%g} - \\\\log{%g} = %g'%(a,b,res3)))\n",
    "\n",
    "display(Math('\\\\log{\\\\left(\\\\frac{%g}{%g}\\\\right)} = \\\\log{%g} - \\\\log{%g}'%(a,b,a,b)))\n",
    "\n",
    "display(Math('\\\\log{\\\\left(\\\\frac{%g}{%g}\\\\right)} \\\\neq \\\\log{%g} - \\\\log{%g}'%(a,b,a,b)))"
   ]
  },
  {
   "cell_type": "markdown",
   "metadata": {},
   "source": [
    "$$\\log\\left(a^{b}\\right) = b\\log{(a)}$$"
   ]
  },
  {
   "cell_type": "code",
   "execution_count": 16,
   "metadata": {},
   "outputs": [
    {
     "name": "stdout",
     "output_type": "stream",
     "text": [
      "4.394449154672439 4.394449154672439 4.394449154672439\n"
     ]
    }
   ],
   "source": [
    "expr1 = np.log(a**b)\n",
    "expr2 = b*np.log(a)\n",
    "expr3 = np.log(a) + np.log(a) + np.log(a) + np.log(a)\n",
    "\n",
    "print(expr1,expr2, expr3)"
   ]
  },
  {
   "cell_type": "markdown",
   "metadata": {},
   "source": [
    "# Arithmetic and geometric sequences"
   ]
  },
  {
   "cell_type": "markdown",
   "metadata": {},
   "source": [
    "Sequence $\\Rightarrow$ An ordered list of numbers"
   ]
  },
  {
   "cell_type": "markdown",
   "metadata": {},
   "source": [
    "* Arithmetic: $a_{n} = a_{0} + d\\left(n - 1\\right)$\n",
    "* Geometric : $g_{n} = g_{0}r^{n - 1}$"
   ]
  },
  {
   "cell_type": "code",
   "execution_count": 16,
   "metadata": {},
   "outputs": [
    {
     "name": "stdout",
     "output_type": "stream",
     "text": [
      "[ 2  5  8 11 14 17]\n"
     ]
    }
   ],
   "source": [
    "# arithmetic\n",
    "a = 2\n",
    "d = 3\n",
    "maxn = 6\n",
    "\n",
    "ariseq = a + d * np.arange(0,maxn)\n",
    "print(ariseq)"
   ]
  },
  {
   "cell_type": "code",
   "execution_count": 17,
   "metadata": {},
   "outputs": [
    {
     "name": "stdout",
     "output_type": "stream",
     "text": [
      "[  2   6  18  54 162 486]\n"
     ]
    }
   ],
   "source": [
    "a = 2\n",
    "r = 3\n",
    "geoseq = a * r**np.arange(0,maxn)\n",
    "print(geoseq)"
   ]
  },
  {
   "cell_type": "code",
   "execution_count": 18,
   "metadata": {},
   "outputs": [
    {
     "data": {
      "image/png": "[encoded data removed]",
      "text/plain": [
       "<Figure size 432x288 with 1 Axes>"
      ]
     },
     "metadata": {},
     "output_type": "display_data"
    }
   ],
   "source": [
    "plt.plot(ariseq, 'ks', label='arithmetic');\n",
    "plt.plot(geoseq, 'rs', label='geometric');\n",
    "plt.legend();"
   ]
  },
  {
   "cell_type": "markdown",
   "metadata": {},
   "source": [
    "## Exercise"
   ]
  },
  {
   "cell_type": "code",
   "execution_count": 2,
   "metadata": {},
   "outputs": [
    {
     "name": "stdout",
     "output_type": "stream",
     "text": [
      "17 17\n",
      "486 486\n"
     ]
    }
   ],
   "source": [
    "# parameters\n",
    "a = 2\n",
    "d = 3\n",
    "maxn = 10\n",
    "nth = 6\n",
    "\n",
    "# compute the sequences\n",
    "ariseq = a + d * np.arange(0,maxn)\n",
    "geoseq = a * d**np.arange(0,maxn)\n",
    "\n",
    "# direct computation\n",
    "ariDirect = a + d*(nth - 1)\n",
    "geoDirect = a * d**(nth-1)\n",
    "\n",
    "print(ariDirect, ariseq[nth - 1])\n",
    "print(geoDirect, geoseq[nth - 1])"
   ]
  },
  {
   "cell_type": "markdown",
   "metadata": {},
   "source": [
    "# Orders of magnitude and scientific notation"
   ]
  },
  {
   "cell_type": "code",
   "execution_count": 3,
   "metadata": {},
   "outputs": [
    {
     "data": {
      "text/plain": [
       "'3.984574e+09'"
      ]
     },
     "execution_count": 3,
     "metadata": {},
     "output_type": "execute_result"
    }
   ],
   "source": [
    "x = 3984573945\n",
    "\n",
    "\"{:,e}\".format(x)"
   ]
  },
  {
   "cell_type": "code",
   "execution_count": 4,
   "metadata": {},
   "outputs": [
    {
     "data": {
      "text/plain": [
       "'3,984,573,945'"
      ]
     },
     "execution_count": 4,
     "metadata": {},
     "output_type": "execute_result"
    }
   ],
   "source": [
    "\"{:,d}\".format(x)"
   ]
  },
  {
   "cell_type": "code",
   "execution_count": 5,
   "metadata": {},
   "outputs": [
    {
     "data": {
      "text/plain": [
       "'3984573945'"
      ]
     },
     "execution_count": 5,
     "metadata": {},
     "output_type": "execute_result"
    }
   ],
   "source": [
    "\"%s\" %x"
   ]
  },
  {
   "cell_type": "code",
   "execution_count": 6,
   "metadata": {},
   "outputs": [
    {
     "data": {
      "text/plain": [
       "'3.984574e+09'"
      ]
     },
     "execution_count": 6,
     "metadata": {},
     "output_type": "execute_result"
    }
   ],
   "source": [
    "\"%e\" %x"
   ]
  },
  {
   "cell_type": "code",
   "execution_count": 7,
   "metadata": {},
   "outputs": [
    {
     "data": {
      "text/plain": [
       "'3.98e+09'"
      ]
     },
     "execution_count": 7,
     "metadata": {},
     "output_type": "execute_result"
    }
   ],
   "source": [
    "\"%.2e\" %x"
   ]
  },
  {
   "cell_type": "code",
   "execution_count": 8,
   "metadata": {},
   "outputs": [
    {
     "name": "stdout",
     "output_type": "stream",
     "text": [
      "<class 'str'>\n"
     ]
    }
   ],
   "source": [
    "s = \"%.4e\" %x\n",
    "print(type(s))"
   ]
  },
  {
   "cell_type": "code",
   "execution_count": 9,
   "metadata": {},
   "outputs": [
    {
     "data": {
      "text/plain": [
       "'09'"
      ]
     },
     "execution_count": 9,
     "metadata": {},
     "output_type": "execute_result"
    }
   ],
   "source": [
    "s[-2:]"
   ]
  },
  {
   "cell_type": "markdown",
   "metadata": {},
   "source": [
    "## Exercise"
   ]
  },
  {
   "cell_type": "code",
   "execution_count": 21,
   "metadata": {},
   "outputs": [
    {
     "data": {
      "text/latex": [
       "$\\displaystyle -0.323653434343\\text{ is }-1\\text{ orders of magnitude }\\approx -3 \\times 10^{-1}$"
      ],
      "text/plain": [
       "<IPython.core.display.Math object>"
      ]
     },
     "metadata": {},
     "output_type": "display_data"
    }
   ],
   "source": [
    "num = -0.323653434343\n",
    "\n",
    "# get the order of magnitude\n",
    "orderOfMag = int(np.floor(np.log10(abs(num))))\n",
    "\n",
    "# scientific notation\n",
    "numstr = '{:,e}'.format(num)\n",
    "wheredot = numstr.find('.')\n",
    "scinot = numstr[:wheredot]\n",
    "\n",
    "display(Math('%s\\\\text{ is }%s\\\\text{ orders of magnitude }\\\\approx %s \\\\times 10^{%g}'\\\n",
    "             %(num,orderOfMag,scinot,orderOfMag)))\n"
   ]
  },
  {
   "cell_type": "markdown",
   "metadata": {},
   "source": [
    "# Maxima and minima of a function"
   ]
  },
  {
   "cell_type": "code",
   "execution_count": 27,
   "metadata": {},
   "outputs": [
    {
     "data": {
      "text/plain": [
       "5.5"
      ]
     },
     "execution_count": 27,
     "metadata": {},
     "output_type": "execute_result"
    }
   ],
   "source": [
    "lst = [-4,5.5,1,2]\n",
    "\n",
    "maxval = np.max(lst)\n",
    "maxvalidx = np.argmax(lst) # index\n",
    "\n",
    "lst[maxvalidx]"
   ]
  },
  {
   "cell_type": "code",
   "execution_count": 38,
   "metadata": {},
   "outputs": [
    {
     "name": "stdout",
     "output_type": "stream",
     "text": [
      "-0.7388185920927908 9\n"
     ]
    },
    {
     "data": {
      "image/png": "[encoded data removed]",
      "text/plain": [
       "<Figure size 432x288 with 1 Axes>"
      ]
     },
     "metadata": {},
     "output_type": "display_data"
    }
   ],
   "source": [
    "x = np.linspace(0,2*np.pi,20)\n",
    "fx = -(np.cos(x) + np.sqrt(x))\n",
    "\n",
    "fmax = np.max(fx)\n",
    "fmaxidx = np.argmax(fx)\n",
    "print(fmax, fmaxidx)\n",
    "\n",
    "plt.plot(x,fx, 'bo-');\n",
    "plt.plot(x[fmaxidx], fmax, 'rs');"
   ]
  },
  {
   "cell_type": "code",
   "execution_count": 44,
   "metadata": {},
   "outputs": [
    {
     "data": {
      "image/png": "[encoded data removed]",
      "text/plain": [
       "<Figure size 432x288 with 1 Axes>"
      ]
     },
     "metadata": {},
     "output_type": "display_data"
    }
   ],
   "source": [
    "x = np.linspace(-2,2,51)\n",
    "\n",
    "fx = x**3 + x**4\n",
    "\n",
    "fminidx = np.argmin(fx) \n",
    "\n",
    "plt.plot(x,fx, 'bs-');\n",
    "plt.plot(x[fminidx],fx[fminidx], 'rs')\n",
    "\n",
    "plt.xlim([-1.2,.5]);\n",
    "plt.ylim([-.2,.2]);"
   ]
  },
  {
   "cell_type": "markdown",
   "metadata": {},
   "source": [
    "## Exercise"
   ]
  },
  {
   "cell_type": "code",
   "execution_count": 51,
   "metadata": {},
   "outputs": [
    {
     "name": "stdout",
     "output_type": "stream",
     "text": [
      "[ 16  52  88 123 158 194]\n"
     ]
    },
    {
     "data": {
      "image/png": "[encoded data removed]",
      "text/plain": [
       "<Figure size 432x288 with 1 Axes>"
      ]
     },
     "metadata": {},
     "output_type": "display_data"
    }
   ],
   "source": [
    "from scipy.signal import find_peaks\n",
    "\n",
    "x = np.linspace(0,12*np.pi,213)\n",
    "fx = -np.cos(x) - np.sqrt(x)\n",
    "\n",
    "peaks = find_peaks(fx)\n",
    "print(peaks[0])\n",
    "\n",
    "plt.plot(x,fx);\n",
    "plt.plot(x[peaks[0]],fx[peaks[0]],'o');"
   ]
  },
  {
   "cell_type": "markdown",
   "metadata": {},
   "source": [
    "# Even and odd functions"
   ]
  },
  {
   "cell_type": "markdown",
   "metadata": {},
   "source": [
    "$$f\\left(x\\right)\\text{ is even if } f\\left(-x\\right) = f\\left(x\\right)$$\n",
    "\n",
    "$$f\\left(x\\right)\\text{ is odd if } f\\left(-x\\right) = -f\\left(x\\right)$$"
   ]
  },
  {
   "cell_type": "code",
   "execution_count": 59,
   "metadata": {},
   "outputs": [
    {
     "data": {
      "image/png": "[encoded data removed]",
      "text/plain": [
       "<Figure size 432x288 with 1 Axes>"
      ]
     },
     "metadata": {},
     "output_type": "display_data"
    }
   ],
   "source": [
    "x = np.linspace(-5,5,20)\n",
    "\n",
    "fEven = x**2\n",
    "fEvenNeg = (-x)**2\n",
    "\n",
    "plt.plot(x,fEven, 'b');\n",
    "plt.plot(x,fEvenNeg, 'ro');"
   ]
  },
  {
   "cell_type": "code",
   "execution_count": 62,
   "metadata": {},
   "outputs": [
    {
     "data": {
      "image/png": "[encoded data removed]",
      "text/plain": [
       "<Figure size 432x288 with 1 Axes>"
      ]
     },
     "metadata": {},
     "output_type": "display_data"
    }
   ],
   "source": [
    "fOdd = x**3\n",
    "fOddNeg = (-x)**3\n",
    "fNegOdd = -fOdd\n",
    "\n",
    "plt.plot(x,fOdd, 'b');\n",
    "plt.plot(x, fOddNeg, 'ro');\n",
    "plt.plot(x, fNegOdd, 'g');"
   ]
  },
  {
   "cell_type": "markdown",
   "metadata": {},
   "source": [
    "## Exercise"
   ]
  },
  {
   "cell_type": "code",
   "execution_count": 71,
   "metadata": {},
   "outputs": [
    {
     "data": {
      "image/png": "[encoded data removed]",
      "text/plain": [
       "<Figure size 432x288 with 1 Axes>"
      ]
     },
     "metadata": {},
     "output_type": "display_data"
    },
    {
     "data": {
      "image/png": "[encoded data removed]",
      "text/plain": [
       "<Figure size 432x288 with 1 Axes>"
      ]
     },
     "metadata": {},
     "output_type": "display_data"
    }
   ],
   "source": [
    "theta = np.linspace(-2*np.pi, 2*np.pi, 39)\n",
    "\n",
    "cosfun = np.cos(theta)\n",
    "cosfunN = np.cos(-theta)\n",
    "\n",
    "plt.plot(theta, cosfun, 'b');\n",
    "plt.plot(theta, cosfunN, 'ro');\n",
    "plt.title('$\\\\cos(\\\\theta)$');\n",
    "plt.show();\n",
    "\n",
    "\n",
    "sinfun = np.sin(theta)\n",
    "sinfunN = np.sin(-theta)\n",
    "\n",
    "plt.plot(theta, sinfun, 'b');\n",
    "plt.plot(theta, sinfunN, 'ro');\n",
    "plt.title('$\\\\sin(\\\\theta)$');\n",
    "plt.show();"
   ]
  }
 ],
 "metadata": {
  "kernelspec": {
   "display_name": "Python 3",
   "language": "python",
   "name": "python3"
  },
  "language_info": {
   "codemirror_mode": {
    "name": "ipython",
    "version": 3
   },
   "file_extension": ".py",
   "mimetype": "text/x-python",
   "name": "python",
   "nbconvert_exporter": "python",
   "pygments_lexer": "ipython3",
   "version": "3.7.7"
  }
 },
 "nbformat": 4,
 "nbformat_minor": 4
}
